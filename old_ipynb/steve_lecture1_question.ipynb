{
 "cells": [
  {
   "cell_type": "code",
   "execution_count": 8,
   "metadata": {},
   "outputs": [],
   "source": [
    "##                Short exercises to do before the lecture of 03 February 2021 in EPS/ESE 102   Page 1 of 2\n",
    "## Create and examine random variables, and compare binomial and normal distributions.\n",
    "##                Part 1 -- examine this script and run it on your computer. \n",
    "## Question 1:  a. be able to describe in words how the loop works that creates the 40-step random walk\n",
    "##              b. only even integers appears in the random sample of the trial -- why?\n",
    "##              c. bring your movie to class and/or upload to Canvas assignment\n",
    "##  the folowing script simulates the random walk and makes movie frames (see slide 11 of Lecture 1)\n",
    "##                 Start script\n",
    "#   sequential names/numbers in alphabetical sort order, for making figures with sequential names:\n",
    "my.monikers=c(paste(\"00\",0:9,sep=\"\"),paste(\"0\",10:99,sep=\"\"),as.character(100:999))\n",
    "#\n",
    "all.points=NULL                ##  object (vector) to collect trial results\n",
    "##                                   this \"for loop\" runs 999 trials for one particle taking 40 steps\n",
    "for(k in 1:999){\n",
    "ns=0                                  ## ns is the particle location.  Initialized at point 0\n",
    "##                                      the following for loop runs a single trial of 40 steps;  \n",
    "for(j in 1:40) { ns =  ns+ c(-1,1)[ 1 + round(runif(1))]  }\n",
    "# ns is now the ending location for the trial just run. Append it to \"all.points\" using the c( ) function\n",
    "all.points=c(all.points, ns)\n",
    "##                                      create a figure with a histogram of the results of all of the trials\n",
    "fig.name=paste(my.monikerss[k],\".png\",sep=\"\")          ## sequential name\n",
    "png(fig.name,width=1200,height=800,pointsize=24)\n",
    "hist(all.points,main=paste(\"Trial #\",my.monikers[k]) ,breaks=((-25):25))\n",
    "dev.off()\n",
    "}\n",
    "## the figures are named sequentially.  Import them into quicktime (\"sequence of images\")\n",
    "## or the Photos app in Windows to make a simple movie from the sequence of images (see links below).\n",
    "### Part 2.  Equivalence between the normal and the binomial distribution                   page 2 of 2\n",
    "##       read the \"help\" page for the plotting function \"qqnorm\".\n",
    "##       this function sorts the points, and makes a plot where the x-axis is transformed so that a\n",
    "##       normal distribution plots as a straight line, with slope proportional to the standard deviation s.\n",
    "##  2a.  plot your results ( \"all.points\" ) using qqnorm.  Please upload and be ready to show your plot. \n",
    "##       Do the points look to be selected from the normal distrbution?\n",
    "##  2b.  rbinom( ) runs the random walk much more efficiently than the loop above.  Let's demonstrate:\n",
    "my.binom= rbinom(size=40,p=.5,n=999)   ## will make an object (vector) that is (statistically)\n",
    "##       equivalent to \"all.points\" vector created above (ex. mean is 20 instead of 0). Show that this is true:\n",
    "qq.my.points = quantile(all.points, probs=seq(from=0,to=1, by=.05) )   ## help(quantile) explains !! qq.my.biom = quantile(all.points, probs=seq(from=0,to=1, by=.05) )     ## finds the designated quantiles\n",
    "##        Plot these against each other. Please upload, be ready to show in class and comment.\n"
   ]
  },
  {
   "cell_type": "code",
   "execution_count": 1,
   "metadata": {},
   "outputs": [],
   "source": [
    "my.monikers=c(paste(\"00\",0:9,sep=\"\"),paste(\"0\",10:99,sep=\"\"),as.character(100:999))"
   ]
  },
  {
   "cell_type": "code",
   "execution_count": 7,
   "metadata": {},
   "outputs": [
    {
     "data": {
      "text/html": [
       "0"
      ],
      "text/latex": [
       "0"
      ],
      "text/markdown": [
       "0"
      ],
      "text/plain": [
       "[1] 0"
      ]
     },
     "metadata": {},
     "output_type": "display_data"
    }
   ],
   "source": [
    "round(runif(1))"
   ]
  },
  {
   "cell_type": "code",
   "execution_count": null,
   "metadata": {},
   "outputs": [],
   "source": []
  }
 ],
 "metadata": {
  "kernelspec": {
   "display_name": "R",
   "language": "R",
   "name": "ir"
  },
  "language_info": {
   "codemirror_mode": "r",
   "file_extension": ".r",
   "mimetype": "text/x-r-source",
   "name": "R",
   "pygments_lexer": "r",
   "version": "3.6.1"
  }
 },
 "nbformat": 4,
 "nbformat_minor": 4
}
